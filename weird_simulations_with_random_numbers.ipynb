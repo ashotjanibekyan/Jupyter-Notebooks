{
 "cells": [
  {
   "cell_type": "code",
   "execution_count": 1,
   "metadata": {},
   "outputs": [],
   "source": [
    "from random import random"
   ]
  },
  {
   "cell_type": "code",
   "execution_count": 2,
   "metadata": {
    "scrolled": true
   },
   "outputs": [
    {
     "data": {
      "text/plain": [
       "0.6698"
      ]
     },
     "execution_count": 2,
     "metadata": {},
     "output_type": "execute_result"
    }
   ],
   "source": [
    "t = []\n",
    "for _ in range(100000):\n",
    "    numbers = [random(), random()]\n",
    "    k = random()\n",
    "\n",
    "    if numbers[0] > k:\n",
    "        if numbers[0] > numbers[1]:\n",
    "            t.append(1)\n",
    "        else:\n",
    "            t.append(0)\n",
    "    else:\n",
    "        if numbers[0] < numbers[1]:\n",
    "            t.append(1)\n",
    "        else:\n",
    "            t.append(0)\n",
    "sum(t)/len(t)"
   ]
  },
  {
   "cell_type": "code",
   "execution_count": 3,
   "metadata": {},
   "outputs": [
    {
     "data": {
      "text/plain": [
       "0.50094"
      ]
     },
     "execution_count": 3,
     "metadata": {},
     "output_type": "execute_result"
    }
   ],
   "source": [
    "t = []\n",
    "for _ in range(100000):\n",
    "    numbers = [random(), random()]\n",
    "    k = random()\n",
    "\n",
    "    if numbers[0] > numbers[1]:\n",
    "        t.append(1)\n",
    "    else:\n",
    "        t.append(0)\n",
    "sum(t)/len(t)"
   ]
  },
  {
   "cell_type": "code",
   "execution_count": null,
   "metadata": {},
   "outputs": [],
   "source": []
  },
  {
   "cell_type": "code",
   "execution_count": null,
   "metadata": {},
   "outputs": [],
   "source": []
  }
 ],
 "metadata": {
  "kernelspec": {
   "display_name": "Python 3",
   "language": "python",
   "name": "python3"
  },
  "language_info": {
   "codemirror_mode": {
    "name": "ipython",
    "version": 3
   },
   "file_extension": ".py",
   "mimetype": "text/x-python",
   "name": "python",
   "nbconvert_exporter": "python",
   "pygments_lexer": "ipython3",
   "version": "3.8.5"
  }
 },
 "nbformat": 4,
 "nbformat_minor": 4
}
